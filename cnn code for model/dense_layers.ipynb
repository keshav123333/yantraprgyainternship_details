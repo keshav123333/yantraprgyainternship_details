{
  "nbformat": 4,
  "nbformat_minor": 0,
  "metadata": {
    "colab": {
      "provenance": []
    },
    "kernelspec": {
      "name": "python3",
      "display_name": "Python 3"
    },
    "language_info": {
      "name": "python"
    }
  },
  "cells": [
    {
      "cell_type": "code",
      "source": [
        "import tensorflow as tf"
      ],
      "metadata": {
        "id": "Yp7IDe6f7ZpW"
      },
      "execution_count": 1,
      "outputs": []
    },
    {
      "cell_type": "code",
      "source": [
        "image=tf.io.read_file('/content/WhatsApp Image 2025-06-01 at 3.12.04 PM.jpeg')"
      ],
      "metadata": {
        "id": "tXxni6QF2Vn_"
      },
      "execution_count": 2,
      "outputs": []
    },
    {
      "cell_type": "code",
      "source": [
        "th=tf.image.decode_image(image,channels=3)"
      ],
      "metadata": {
        "id": "jpOtlcqF2r-n"
      },
      "execution_count": 3,
      "outputs": []
    },
    {
      "cell_type": "code",
      "source": [
        "th"
      ],
      "metadata": {
        "colab": {
          "base_uri": "https://localhost:8080/"
        },
        "id": "HqayT2x33Wq3",
        "outputId": "7f78a091-7fba-4fcc-fa5b-e2a5abc01c02"
      },
      "execution_count": 4,
      "outputs": [
        {
          "output_type": "execute_result",
          "data": {
            "text/plain": [
              "<tf.Tensor: shape=(527, 456, 3), dtype=uint8, numpy=\n",
              "array([[[238, 232, 216],\n",
              "        [238, 232, 216],\n",
              "        [238, 232, 216],\n",
              "        ...,\n",
              "        [254, 248, 232],\n",
              "        [254, 248, 232],\n",
              "        [254, 248, 232]],\n",
              "\n",
              "       [[238, 232, 216],\n",
              "        [238, 232, 216],\n",
              "        [238, 232, 216],\n",
              "        ...,\n",
              "        [254, 248, 232],\n",
              "        [254, 248, 232],\n",
              "        [254, 248, 232]],\n",
              "\n",
              "       [[238, 232, 216],\n",
              "        [238, 232, 216],\n",
              "        [238, 232, 216],\n",
              "        ...,\n",
              "        [254, 248, 232],\n",
              "        [254, 248, 232],\n",
              "        [254, 248, 232]],\n",
              "\n",
              "       ...,\n",
              "\n",
              "       [[ 46,  50,  27],\n",
              "        [ 44,  48,  25],\n",
              "        [ 41,  44,  23],\n",
              "        ...,\n",
              "        [215, 209, 193],\n",
              "        [213, 207, 191],\n",
              "        [213, 207, 191]],\n",
              "\n",
              "       [[ 44,  48,  25],\n",
              "        [ 42,  46,  23],\n",
              "        [ 40,  43,  22],\n",
              "        ...,\n",
              "        [213, 207, 191],\n",
              "        [212, 206, 190],\n",
              "        [211, 205, 189]],\n",
              "\n",
              "       [[ 42,  46,  23],\n",
              "        [ 41,  45,  22],\n",
              "        [ 39,  42,  21],\n",
              "        ...,\n",
              "        [212, 206, 190],\n",
              "        [211, 205, 189],\n",
              "        [210, 204, 188]]], dtype=uint8)>"
            ]
          },
          "metadata": {},
          "execution_count": 4
        }
      ]
    },
    {
      "cell_type": "code",
      "source": [
        "th=th/255"
      ],
      "metadata": {
        "id": "Y8TWKBJ63Xy-"
      },
      "execution_count": 5,
      "outputs": []
    },
    {
      "cell_type": "code",
      "source": [
        "th"
      ],
      "metadata": {
        "colab": {
          "base_uri": "https://localhost:8080/"
        },
        "id": "WW3-NQLw3nVX",
        "outputId": "2723c92a-36d9-4012-d614-6e0fb7010aba"
      },
      "execution_count": 6,
      "outputs": [
        {
          "output_type": "execute_result",
          "data": {
            "text/plain": [
              "<tf.Tensor: shape=(527, 456, 3), dtype=float32, numpy=\n",
              "array([[[0.93333334, 0.9098039 , 0.84705883],\n",
              "        [0.93333334, 0.9098039 , 0.84705883],\n",
              "        [0.93333334, 0.9098039 , 0.84705883],\n",
              "        ...,\n",
              "        [0.99607843, 0.972549  , 0.9098039 ],\n",
              "        [0.99607843, 0.972549  , 0.9098039 ],\n",
              "        [0.99607843, 0.972549  , 0.9098039 ]],\n",
              "\n",
              "       [[0.93333334, 0.9098039 , 0.84705883],\n",
              "        [0.93333334, 0.9098039 , 0.84705883],\n",
              "        [0.93333334, 0.9098039 , 0.84705883],\n",
              "        ...,\n",
              "        [0.99607843, 0.972549  , 0.9098039 ],\n",
              "        [0.99607843, 0.972549  , 0.9098039 ],\n",
              "        [0.99607843, 0.972549  , 0.9098039 ]],\n",
              "\n",
              "       [[0.93333334, 0.9098039 , 0.84705883],\n",
              "        [0.93333334, 0.9098039 , 0.84705883],\n",
              "        [0.93333334, 0.9098039 , 0.84705883],\n",
              "        ...,\n",
              "        [0.99607843, 0.972549  , 0.9098039 ],\n",
              "        [0.99607843, 0.972549  , 0.9098039 ],\n",
              "        [0.99607843, 0.972549  , 0.9098039 ]],\n",
              "\n",
              "       ...,\n",
              "\n",
              "       [[0.18039216, 0.19607843, 0.10588235],\n",
              "        [0.17254902, 0.1882353 , 0.09803922],\n",
              "        [0.16078432, 0.17254902, 0.09019608],\n",
              "        ...,\n",
              "        [0.84313726, 0.81960785, 0.75686276],\n",
              "        [0.8352941 , 0.8117647 , 0.7490196 ],\n",
              "        [0.8352941 , 0.8117647 , 0.7490196 ]],\n",
              "\n",
              "       [[0.17254902, 0.1882353 , 0.09803922],\n",
              "        [0.16470589, 0.18039216, 0.09019608],\n",
              "        [0.15686275, 0.16862746, 0.08627451],\n",
              "        ...,\n",
              "        [0.8352941 , 0.8117647 , 0.7490196 ],\n",
              "        [0.83137256, 0.80784315, 0.74509805],\n",
              "        [0.827451  , 0.8039216 , 0.7411765 ]],\n",
              "\n",
              "       [[0.16470589, 0.18039216, 0.09019608],\n",
              "        [0.16078432, 0.1764706 , 0.08627451],\n",
              "        [0.15294118, 0.16470589, 0.08235294],\n",
              "        ...,\n",
              "        [0.83137256, 0.80784315, 0.74509805],\n",
              "        [0.827451  , 0.8039216 , 0.7411765 ],\n",
              "        [0.8235294 , 0.8       , 0.7372549 ]]], dtype=float32)>"
            ]
          },
          "metadata": {},
          "execution_count": 6
        }
      ]
    },
    {
      "cell_type": "code",
      "source": [
        "def conv_model():\n",
        "  inputs=tf.keras.Input(shape=(527, 456, 3))\n",
        "  l1=tf.keras.layers.Conv2D(filters=5,kernel_size=(3,3),strides=1,activation='relu')(inputs)\n",
        "  model=tf.keras.models.Model(inputs=inputs,outputs=l1)\n",
        "  return model\n",
        ""
      ],
      "metadata": {
        "id": "prTiV0rt3oc1"
      },
      "execution_count": 7,
      "outputs": []
    },
    {
      "cell_type": "code",
      "source": [
        "model=conv_model()"
      ],
      "metadata": {
        "id": "SrMvZ_gi4ISw"
      },
      "execution_count": 8,
      "outputs": []
    },
    {
      "cell_type": "code",
      "source": [
        "model.summary()"
      ],
      "metadata": {
        "colab": {
          "base_uri": "https://localhost:8080/",
          "height": 204
        },
        "id": "OF1H1U205Brb",
        "outputId": "1f636ba5-5f90-4695-e74a-b7a0a3f57f63"
      },
      "execution_count": 9,
      "outputs": [
        {
          "output_type": "display_data",
          "data": {
            "text/plain": [
              "\u001b[1mModel: \"functional\"\u001b[0m\n"
            ],
            "text/html": [
              "<pre style=\"white-space:pre;overflow-x:auto;line-height:normal;font-family:Menlo,'DejaVu Sans Mono',consolas,'Courier New',monospace\"><span style=\"font-weight: bold\">Model: \"functional\"</span>\n",
              "</pre>\n"
            ]
          },
          "metadata": {}
        },
        {
          "output_type": "display_data",
          "data": {
            "text/plain": [
              "┏━━━━━━━━━━━━━━━━━━━━━━━━━━━━━━━━━┳━━━━━━━━━━━━━━━━━━━━━━━━┳━━━━━━━━━━━━━━━┓\n",
              "┃\u001b[1m \u001b[0m\u001b[1mLayer (type)                   \u001b[0m\u001b[1m \u001b[0m┃\u001b[1m \u001b[0m\u001b[1mOutput Shape          \u001b[0m\u001b[1m \u001b[0m┃\u001b[1m \u001b[0m\u001b[1m      Param #\u001b[0m\u001b[1m \u001b[0m┃\n",
              "┡━━━━━━━━━━━━━━━━━━━━━━━━━━━━━━━━━╇━━━━━━━━━━━━━━━━━━━━━━━━╇━━━━━━━━━━━━━━━┩\n",
              "│ input_layer (\u001b[38;5;33mInputLayer\u001b[0m)        │ (\u001b[38;5;45mNone\u001b[0m, \u001b[38;5;34m527\u001b[0m, \u001b[38;5;34m456\u001b[0m, \u001b[38;5;34m3\u001b[0m)    │             \u001b[38;5;34m0\u001b[0m │\n",
              "├─────────────────────────────────┼────────────────────────┼───────────────┤\n",
              "│ conv2d (\u001b[38;5;33mConv2D\u001b[0m)                 │ (\u001b[38;5;45mNone\u001b[0m, \u001b[38;5;34m525\u001b[0m, \u001b[38;5;34m454\u001b[0m, \u001b[38;5;34m5\u001b[0m)    │           \u001b[38;5;34m140\u001b[0m │\n",
              "└─────────────────────────────────┴────────────────────────┴───────────────┘\n"
            ],
            "text/html": [
              "<pre style=\"white-space:pre;overflow-x:auto;line-height:normal;font-family:Menlo,'DejaVu Sans Mono',consolas,'Courier New',monospace\">┏━━━━━━━━━━━━━━━━━━━━━━━━━━━━━━━━━┳━━━━━━━━━━━━━━━━━━━━━━━━┳━━━━━━━━━━━━━━━┓\n",
              "┃<span style=\"font-weight: bold\"> Layer (type)                    </span>┃<span style=\"font-weight: bold\"> Output Shape           </span>┃<span style=\"font-weight: bold\">       Param # </span>┃\n",
              "┡━━━━━━━━━━━━━━━━━━━━━━━━━━━━━━━━━╇━━━━━━━━━━━━━━━━━━━━━━━━╇━━━━━━━━━━━━━━━┩\n",
              "│ input_layer (<span style=\"color: #0087ff; text-decoration-color: #0087ff\">InputLayer</span>)        │ (<span style=\"color: #00d7ff; text-decoration-color: #00d7ff\">None</span>, <span style=\"color: #00af00; text-decoration-color: #00af00\">527</span>, <span style=\"color: #00af00; text-decoration-color: #00af00\">456</span>, <span style=\"color: #00af00; text-decoration-color: #00af00\">3</span>)    │             <span style=\"color: #00af00; text-decoration-color: #00af00\">0</span> │\n",
              "├─────────────────────────────────┼────────────────────────┼───────────────┤\n",
              "│ conv2d (<span style=\"color: #0087ff; text-decoration-color: #0087ff\">Conv2D</span>)                 │ (<span style=\"color: #00d7ff; text-decoration-color: #00d7ff\">None</span>, <span style=\"color: #00af00; text-decoration-color: #00af00\">525</span>, <span style=\"color: #00af00; text-decoration-color: #00af00\">454</span>, <span style=\"color: #00af00; text-decoration-color: #00af00\">5</span>)    │           <span style=\"color: #00af00; text-decoration-color: #00af00\">140</span> │\n",
              "└─────────────────────────────────┴────────────────────────┴───────────────┘\n",
              "</pre>\n"
            ]
          },
          "metadata": {}
        },
        {
          "output_type": "display_data",
          "data": {
            "text/plain": [
              "\u001b[1m Total params: \u001b[0m\u001b[38;5;34m140\u001b[0m (560.00 B)\n"
            ],
            "text/html": [
              "<pre style=\"white-space:pre;overflow-x:auto;line-height:normal;font-family:Menlo,'DejaVu Sans Mono',consolas,'Courier New',monospace\"><span style=\"font-weight: bold\"> Total params: </span><span style=\"color: #00af00; text-decoration-color: #00af00\">140</span> (560.00 B)\n",
              "</pre>\n"
            ]
          },
          "metadata": {}
        },
        {
          "output_type": "display_data",
          "data": {
            "text/plain": [
              "\u001b[1m Trainable params: \u001b[0m\u001b[38;5;34m140\u001b[0m (560.00 B)\n"
            ],
            "text/html": [
              "<pre style=\"white-space:pre;overflow-x:auto;line-height:normal;font-family:Menlo,'DejaVu Sans Mono',consolas,'Courier New',monospace\"><span style=\"font-weight: bold\"> Trainable params: </span><span style=\"color: #00af00; text-decoration-color: #00af00\">140</span> (560.00 B)\n",
              "</pre>\n"
            ]
          },
          "metadata": {}
        },
        {
          "output_type": "display_data",
          "data": {
            "text/plain": [
              "\u001b[1m Non-trainable params: \u001b[0m\u001b[38;5;34m0\u001b[0m (0.00 B)\n"
            ],
            "text/html": [
              "<pre style=\"white-space:pre;overflow-x:auto;line-height:normal;font-family:Menlo,'DejaVu Sans Mono',consolas,'Courier New',monospace\"><span style=\"font-weight: bold\"> Non-trainable params: </span><span style=\"color: #00af00; text-decoration-color: #00af00\">0</span> (0.00 B)\n",
              "</pre>\n"
            ]
          },
          "metadata": {}
        }
      ]
    },
    {
      "cell_type": "code",
      "source": [
        "model_input=tf.expand_dims(th,axis=0)\n",
        "model_input"
      ],
      "metadata": {
        "colab": {
          "base_uri": "https://localhost:8080/"
        },
        "id": "ZRbucGWy58eJ",
        "outputId": "97067ce2-eb35-409e-9773-1d07e57cd132"
      },
      "execution_count": 10,
      "outputs": [
        {
          "output_type": "execute_result",
          "data": {
            "text/plain": [
              "<tf.Tensor: shape=(1, 527, 456, 3), dtype=float32, numpy=\n",
              "array([[[[0.93333334, 0.9098039 , 0.84705883],\n",
              "         [0.93333334, 0.9098039 , 0.84705883],\n",
              "         [0.93333334, 0.9098039 , 0.84705883],\n",
              "         ...,\n",
              "         [0.99607843, 0.972549  , 0.9098039 ],\n",
              "         [0.99607843, 0.972549  , 0.9098039 ],\n",
              "         [0.99607843, 0.972549  , 0.9098039 ]],\n",
              "\n",
              "        [[0.93333334, 0.9098039 , 0.84705883],\n",
              "         [0.93333334, 0.9098039 , 0.84705883],\n",
              "         [0.93333334, 0.9098039 , 0.84705883],\n",
              "         ...,\n",
              "         [0.99607843, 0.972549  , 0.9098039 ],\n",
              "         [0.99607843, 0.972549  , 0.9098039 ],\n",
              "         [0.99607843, 0.972549  , 0.9098039 ]],\n",
              "\n",
              "        [[0.93333334, 0.9098039 , 0.84705883],\n",
              "         [0.93333334, 0.9098039 , 0.84705883],\n",
              "         [0.93333334, 0.9098039 , 0.84705883],\n",
              "         ...,\n",
              "         [0.99607843, 0.972549  , 0.9098039 ],\n",
              "         [0.99607843, 0.972549  , 0.9098039 ],\n",
              "         [0.99607843, 0.972549  , 0.9098039 ]],\n",
              "\n",
              "        ...,\n",
              "\n",
              "        [[0.18039216, 0.19607843, 0.10588235],\n",
              "         [0.17254902, 0.1882353 , 0.09803922],\n",
              "         [0.16078432, 0.17254902, 0.09019608],\n",
              "         ...,\n",
              "         [0.84313726, 0.81960785, 0.75686276],\n",
              "         [0.8352941 , 0.8117647 , 0.7490196 ],\n",
              "         [0.8352941 , 0.8117647 , 0.7490196 ]],\n",
              "\n",
              "        [[0.17254902, 0.1882353 , 0.09803922],\n",
              "         [0.16470589, 0.18039216, 0.09019608],\n",
              "         [0.15686275, 0.16862746, 0.08627451],\n",
              "         ...,\n",
              "         [0.8352941 , 0.8117647 , 0.7490196 ],\n",
              "         [0.83137256, 0.80784315, 0.74509805],\n",
              "         [0.827451  , 0.8039216 , 0.7411765 ]],\n",
              "\n",
              "        [[0.16470589, 0.18039216, 0.09019608],\n",
              "         [0.16078432, 0.1764706 , 0.08627451],\n",
              "         [0.15294118, 0.16470589, 0.08235294],\n",
              "         ...,\n",
              "         [0.83137256, 0.80784315, 0.74509805],\n",
              "         [0.827451  , 0.8039216 , 0.7411765 ],\n",
              "         [0.8235294 , 0.8       , 0.7372549 ]]]], dtype=float32)>"
            ]
          },
          "metadata": {},
          "execution_count": 10
        }
      ]
    },
    {
      "cell_type": "code",
      "source": [
        "y_pred=model(model_input)"
      ],
      "metadata": {
        "id": "fjYjH94h5FrR"
      },
      "execution_count": 11,
      "outputs": []
    },
    {
      "cell_type": "code",
      "source": [
        "y_pred"
      ],
      "metadata": {
        "colab": {
          "base_uri": "https://localhost:8080/"
        },
        "id": "Fj1owVdX6RTQ",
        "outputId": "19235f09-15cd-4249-a632-a5e07bed630c"
      },
      "execution_count": 12,
      "outputs": [
        {
          "output_type": "execute_result",
          "data": {
            "text/plain": [
              "<tf.Tensor: shape=(1, 525, 454, 5), dtype=float32, numpy=\n",
              "array([[[[0.7848998 , 0.        , 0.522708  , 0.        , 0.3915257 ],\n",
              "         [0.7848998 , 0.        , 0.522708  , 0.        , 0.3915257 ],\n",
              "         [0.7848998 , 0.        , 0.522708  , 0.        , 0.3915257 ],\n",
              "         ...,\n",
              "         [0.8369027 , 0.        , 0.55936444, 0.        , 0.4174639 ],\n",
              "         [0.8369027 , 0.        , 0.55936444, 0.        , 0.4174639 ],\n",
              "         [0.8369027 , 0.        , 0.55936444, 0.        , 0.4174639 ]],\n",
              "\n",
              "        [[0.7848998 , 0.        , 0.522708  , 0.        , 0.3915257 ],\n",
              "         [0.7848998 , 0.        , 0.522708  , 0.        , 0.3915257 ],\n",
              "         [0.7848998 , 0.        , 0.522708  , 0.        , 0.3915257 ],\n",
              "         ...,\n",
              "         [0.8369027 , 0.        , 0.55936444, 0.        , 0.4174639 ],\n",
              "         [0.8369027 , 0.        , 0.55936444, 0.        , 0.4174639 ],\n",
              "         [0.8369027 , 0.        , 0.55936444, 0.        , 0.4174639 ]],\n",
              "\n",
              "        [[0.7848998 , 0.        , 0.522708  , 0.        , 0.3915257 ],\n",
              "         [0.7848998 , 0.        , 0.522708  , 0.        , 0.3915257 ],\n",
              "         [0.7848998 , 0.        , 0.522708  , 0.        , 0.3915257 ],\n",
              "         ...,\n",
              "         [0.8369027 , 0.        , 0.55936444, 0.        , 0.4174639 ],\n",
              "         [0.8369027 , 0.        , 0.55936444, 0.        , 0.4174639 ],\n",
              "         [0.8369027 , 0.        , 0.55936444, 0.        , 0.4174639 ]],\n",
              "\n",
              "        ...,\n",
              "\n",
              "        [[0.16211808, 0.        , 0.10507199, 0.        , 0.09758589],\n",
              "         [0.14927629, 0.        , 0.1040872 , 0.        , 0.08556159],\n",
              "         [0.13185738, 0.        , 0.09026878, 0.        , 0.07827725],\n",
              "         ...,\n",
              "         [0.7203493 , 0.        , 0.47822335, 0.        , 0.3584891 ],\n",
              "         [0.7176441 , 0.        , 0.4755861 , 0.        , 0.3561858 ],\n",
              "         [0.71667236, 0.        , 0.4689    , 0.        , 0.35652676]],\n",
              "\n",
              "        [[0.15682514, 0.        , 0.10021107, 0.        , 0.09744833],\n",
              "         [0.14723381, 0.        , 0.09843784, 0.        , 0.08758804],\n",
              "         [0.13168396, 0.        , 0.08650948, 0.        , 0.08009033],\n",
              "         ...,\n",
              "         [0.71785885, 0.        , 0.47289738, 0.        , 0.3549262 ],\n",
              "         [0.71059877, 0.        , 0.4713504 , 0.        , 0.35362574],\n",
              "         [0.7099574 , 0.        , 0.46700653, 0.        , 0.35454407]],\n",
              "\n",
              "        [[0.15079053, 0.        , 0.09568359, 0.        , 0.09581026],\n",
              "         [0.1424714 , 0.        , 0.09366664, 0.        , 0.08801152],\n",
              "         [0.13219872, 0.        , 0.08403527, 0.        , 0.08097171],\n",
              "         ...,\n",
              "         [0.7128673 , 0.        , 0.47073278, 0.        , 0.35368925],\n",
              "         [0.70771784, 0.        , 0.46750662, 0.        , 0.35154998],\n",
              "         [0.7028272 , 0.        , 0.46379855, 0.        , 0.35125977]]]],\n",
              "      dtype=float32)>"
            ]
          },
          "metadata": {},
          "execution_count": 12
        }
      ]
    },
    {
      "cell_type": "code",
      "source": [
        "model.layers"
      ],
      "metadata": {
        "colab": {
          "base_uri": "https://localhost:8080/"
        },
        "id": "d1kUW6de6TYs",
        "outputId": "3dfdba8d-beb1-4ab1-ff41-7036bb99eab3"
      },
      "execution_count": 13,
      "outputs": [
        {
          "output_type": "execute_result",
          "data": {
            "text/plain": [
              "[<InputLayer name=input_layer, built=True>, <Conv2D name=conv2d, built=True>]"
            ]
          },
          "metadata": {},
          "execution_count": 13
        }
      ]
    },
    {
      "cell_type": "code",
      "source": [
        "model.layers[0].weights"
      ],
      "metadata": {
        "colab": {
          "base_uri": "https://localhost:8080/"
        },
        "id": "zEtM24e_6a86",
        "outputId": "c0a0bed2-223c-45fb-9c76-ef3115fc0686"
      },
      "execution_count": 14,
      "outputs": [
        {
          "output_type": "execute_result",
          "data": {
            "text/plain": [
              "[]"
            ]
          },
          "metadata": {},
          "execution_count": 14
        }
      ]
    },
    {
      "cell_type": "code",
      "source": [
        "model.layers[1].weights"
      ],
      "metadata": {
        "colab": {
          "base_uri": "https://localhost:8080/"
        },
        "id": "G8Ux5b2V6hve",
        "outputId": "11330500-bae6-4d7b-8e1a-6a55d0ce1daf"
      },
      "execution_count": 15,
      "outputs": [
        {
          "output_type": "execute_result",
          "data": {
            "text/plain": [
              "[<Variable path=conv2d/kernel, shape=(3, 3, 3, 5), dtype=float32, value=[[[[ 0.25788575  0.01738918  0.03691503 -0.2640874  -0.2576303 ]\n",
              "    [ 0.00584128 -0.1911937   0.10794806 -0.19964334  0.28523737]\n",
              "    [-0.21413827 -0.11983761 -0.2758559   0.21848327  0.26311386]]\n",
              " \n",
              "   [[ 0.27720767  0.13753197  0.17921558  0.16298121  0.02176842]\n",
              "    [ 0.12461913  0.100337    0.01156697 -0.25909153  0.08160037]\n",
              "    [ 0.14357945 -0.02419788  0.07609403 -0.09889242 -0.02808508]]\n",
              " \n",
              "   [[ 0.0342769   0.16191813 -0.2862561   0.13363877  0.13246977]\n",
              "    [ 0.12393272  0.2152791   0.25417942 -0.09700571  0.02920377]\n",
              "    [-0.03109825  0.01318827 -0.06238399  0.22328174  0.25299555]]]\n",
              " \n",
              " \n",
              "  [[[ 0.18112645 -0.08923662  0.10241237 -0.05056734 -0.07611875]\n",
              "    [-0.22519894 -0.00562766  0.12393051 -0.11795998  0.22620791]\n",
              "    [ 0.14260536 -0.18440206  0.19910732  0.1645594  -0.2457691 ]]\n",
              " \n",
              "   [[-0.12166789 -0.25691822  0.24262303 -0.07880694 -0.03980681]\n",
              "    [-0.08264658 -0.17707229 -0.18106121 -0.1549539  -0.2122662 ]\n",
              "    [-0.16504152 -0.1837187   0.13439551  0.21525764 -0.24172732]]\n",
              " \n",
              "   [[ 0.20919266 -0.09389398 -0.267677   -0.08118527  0.1797266 ]\n",
              "    [-0.04281917  0.0339126  -0.04784544  0.06270707 -0.13659091]\n",
              "    [ 0.05198851 -0.24693032 -0.04851635 -0.08138803 -0.01330259]]]\n",
              " \n",
              " \n",
              "  [[[ 0.28718072  0.17335817 -0.2582592   0.04575315  0.03286308]\n",
              "    [ 0.17577347 -0.16596302  0.11311191 -0.13767684  0.01744106]\n",
              "    [-0.2042108   0.09422508  0.05260664  0.09988302 -0.23718242]]\n",
              " \n",
              "   [[-0.20376055  0.04760125  0.01518854 -0.13400754 -0.15339783]\n",
              "    [-0.15420343 -0.13485307  0.08219096  0.01918003  0.23585016]\n",
              "    [ 0.07757935 -0.00547487  0.25722963  0.27964908 -0.08023995]]\n",
              " \n",
              "   [[-0.01149711 -0.27132806  0.2371139  -0.25381997  0.16480911]\n",
              "    [ 0.14409289  0.17479622 -0.02199414  0.16569749  0.12605688]\n",
              "    [ 0.04819822 -0.18151876 -0.19176695 -0.20424157  0.08616301]]]]>,\n",
              " <Variable path=conv2d/bias, shape=(5,), dtype=float32, value=[0. 0. 0. 0. 0.]>]"
            ]
          },
          "metadata": {},
          "execution_count": 15
        }
      ]
    },
    {
      "cell_type": "code",
      "source": [],
      "metadata": {
        "id": "bF8IOYmI6qap"
      },
      "execution_count": 15,
      "outputs": []
    }
  ]
}